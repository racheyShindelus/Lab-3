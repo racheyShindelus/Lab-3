{
 "cells": [
  {
   "cell_type": "markdown",
   "metadata": {},
   "source": [
    "# Boolean Expressions\n",
    "Like Java, Python can evaluate Boolean expressions which result in either the value `True` or `False`. Whereas Java and C use the symbols **&&**, **||**, and **!**, Python uses the English words `and`, `or`, and `not`.\n",
    "\n",
    "Use the cell below to evaluate the expression\n",
    "\n",
    "$$ A \\land \\neg B \\lor \\neg A $$\n",
    "\n",
    "Try changing the values of A and B to see how the result of the expression changes."
   ]
  },
  {
   "cell_type": "code",
   "execution_count": null,
   "metadata": {},
   "outputs": [],
   "source": [
    "A = True\n",
    "B = False\n",
    "A and not B or not A"
   ]
  },
  {
   "cell_type": "markdown",
   "metadata": {},
   "source": [
    "## Problem 1\n",
    "Change the values of *X*, *Y*, and *Z*. Determine a set of values that result in the expression evaluating to `True`."
   ]
  },
  {
   "cell_type": "code",
   "execution_count": null,
   "metadata": {},
   "outputs": [],
   "source": [
    "X = True\n",
    "Y = True\n",
    "Z = True\n",
    "not X and (not Y or Z)"
   ]
  },
  {
   "cell_type": "markdown",
   "metadata": {},
   "source": [
    "# Generating Truth Tables\n",
    "Instead of manually altering each of the variables, we can use nested loops to quickly run through all the permutations and produce a truth table for a given expression. Python has two kinds of loops: `while` and `for`. We will use the `for` loop for this purpose. But it's not a \"counting\" loop like in Java or C. Instead, Python's `for` loop will iterate over a list of values, assigning the loop variable to each element in turn.\n",
    "\n",
    "For example, the loop `for i in [2, 5, 8]:` will iteratate three times:\n",
    "\n",
    "1. The first time, the value of *i* will be 2.\n",
    "2. On the second iteration, the value of *i* will be 5.\n",
    "3. On the third and last iteration, the value of *i* will be 8.\n",
    "\n",
    "Let's see an entire example, using the expression at the top of the page. By nesting the loops, the inner *B* loop will run a total of four times, giving us a table with four rows. The table that is produce won't be very pretty, but it will do for our purposes."
   ]
  },
  {
   "cell_type": "code",
   "execution_count": null,
   "metadata": {},
   "outputs": [],
   "source": [
    "print(\"  A   B    out\")\n",
    "for A in [False, True]:\n",
    "    for B in [False, True]:\n",
    "        out = A and not B or not A\n",
    "        print(A, B, out)"
   ]
  },
  {
   "cell_type": "markdown",
   "metadata": {},
   "source": [
    "Here is an example that uses three variables. Notice there are three loops, one for each variable. It evalues the expression\n",
    "\n",
    "$$ (x \\lor \\neg z) \\land (\\neg y \\lor z) $$"
   ]
  },
  {
   "cell_type": "code",
   "execution_count": null,
   "metadata": {},
   "outputs": [],
   "source": [
    "print(\"  x    y    z    out\")\n",
    "for x in [False, True]:\n",
    "    for y in [False, True]:\n",
    "        for z in [False, True]:\n",
    "            out = (x or not z) and (not y or z)\n",
    "            print(x, y, z, out)"
   ]
  },
  {
   "cell_type": "markdown",
   "metadata": {},
   "source": [
    "We can clean up the output a bit using Python's formatted output feature. C programmers may recognize it as looking a bit like the syntax for the `printf`."
   ]
  },
  {
   "cell_type": "code",
   "execution_count": null,
   "metadata": {},
   "outputs": [],
   "source": [
    "print(\"   x    y    z     out\")\n",
    "for x in [False, True]:\n",
    "    for y in [False, True]:\n",
    "        for z in [False, True]:\n",
    "            out = (x or not z) and (not y or z)\n",
    "            print(\"%5s %5s %5s %5s\" % (x, y, z, out))"
   ]
  },
  {
   "cell_type": "markdown",
   "metadata": {},
   "source": [
    "## Problem 2\n",
    "Generate the truth table for this four-variable expression.\n",
    "\n",
    "$$ (a \\lor \\neg b \\lor d) \\land (\\neg b \\lor \\neg d) \\land (\\neg a \\lor b \\lor c \\lor \\neg d) $$"
   ]
  },
  {
   "cell_type": "code",
   "execution_count": null,
   "metadata": {},
   "outputs": [],
   "source": [
    "# Write your program here\n"
   ]
  },
  {
   "cell_type": "markdown",
   "metadata": {},
   "source": [
    "## Problem 3\n",
    "Generate the truth table for this five-variable expression.\n",
    "\n",
    "$$ (p \\lor \\neg q) \\land (m \\lor \\neg n \\lor q \\lor r) \\land (\\neg m \\lor \\neg n \\lor p \\lor r) \\land (\\neg n \\lor \\neg q \\lor \\neg r) $$"
   ]
  },
  {
   "cell_type": "code",
   "execution_count": null,
   "metadata": {},
   "outputs": [],
   "source": [
    "# Write your solution here\n"
   ]
  }
 ],
 "metadata": {
  "kernelspec": {
   "display_name": "Python 3",
   "language": "python",
   "name": "python3"
  },
  "language_info": {
   "codemirror_mode": {
    "name": "ipython",
    "version": 3
   },
   "file_extension": ".py",
   "mimetype": "text/x-python",
   "name": "python",
   "nbconvert_exporter": "python",
   "pygments_lexer": "ipython3",
   "version": "3.7.7"
  }
 },
 "nbformat": 4,
 "nbformat_minor": 4
}
