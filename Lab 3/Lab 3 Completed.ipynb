{
 "cells": [
  {
   "cell_type": "markdown",
   "metadata": {},
   "source": [
    "# Boolean Expressions\n",
    "Like Java, Python can evaluate Boolean expressions which result in either the value `True` or `False`. Whereas Java and C use the symbols **&&**, **||**, and **!**, Python uses the English words `and`, `or`, and `not`.\n",
    "\n",
    "Use the cell below to evaluate the expression\n",
    "\n",
    "$$ A \\land \\neg B \\lor \\neg A $$\n",
    "\n",
    "Try changing the values of A and B to see how the result of the expression changes."
   ]
  },
  {
   "cell_type": "code",
   "execution_count": 1,
   "metadata": {},
   "outputs": [
    {
     "data": {
      "text/plain": [
       "True"
      ]
     },
     "execution_count": 1,
     "metadata": {},
     "output_type": "execute_result"
    }
   ],
   "source": [
    "A = True\n",
    "B = False\n",
    "A and not B or not A"
   ]
  },
  {
   "cell_type": "markdown",
   "metadata": {},
   "source": [
    "## Problem 1\n",
    "Change the values of *X*, *Y*, and *Z*. Determine a set of values that result in the expression evaluating to `True`."
   ]
  },
  {
   "cell_type": "code",
   "execution_count": 9,
   "metadata": {},
   "outputs": [
    {
     "data": {
      "text/plain": [
       "True"
      ]
     },
     "execution_count": 9,
     "metadata": {},
     "output_type": "execute_result"
    }
   ],
   "source": [
    "X = False\n",
    "Y = False\n",
    "Z = True\n",
    "not X and (not Y or Z)"
   ]
  },
  {
   "cell_type": "markdown",
   "metadata": {},
   "source": [
    "# Generating Truth Tables\n",
    "Instead of manually altering each of the variables, we can use nested loops to quickly run through all the permutations and produce a truth table for a given expression. Python has two kinds of loops: `while` and `for`. We will use the `for` loop for this purpose. But it's not a \"counting\" loop like in Java or C. Instead, Python's `for` loop will iterate over a list of values, assigning the loop variable to each element in turn.\n",
    "\n",
    "For example, the loop `for i in [2, 5, 8]:` will iteratate three times:\n",
    "\n",
    "1. The first time, the value of *i* will be 2.\n",
    "2. On the second iteration, the value of *i* will be 5.\n",
    "3. On the third and last iteration, the value of *i* will be 8.\n",
    "\n",
    "Let's see an entire example, using the expression at the top of the page. By nesting the loops, the inner *B* loop will run a total of four times, giving us a table with four rows. The table that is produce won't be very pretty, but it will do for our purposes."
   ]
  },
  {
   "cell_type": "code",
   "execution_count": 10,
   "metadata": {},
   "outputs": [
    {
     "name": "stdout",
     "output_type": "stream",
     "text": [
      "  A   B    out\n",
      "False False True\n",
      "False True True\n",
      "True False True\n",
      "True True False\n"
     ]
    }
   ],
   "source": [
    "print(\"  A   B    out\")\n",
    "for A in [False, True]:\n",
    "    for B in [False, True]:\n",
    "        out = A and not B or not A\n",
    "        print(A, B, out)"
   ]
  },
  {
   "cell_type": "markdown",
   "metadata": {},
   "source": [
    "Here is an example that uses three variables. Notice there are three loops, one for each variable. It evalues the expression\n",
    "\n",
    "$$ (x \\lor \\neg z) \\land (\\neg y \\lor z) $$"
   ]
  },
  {
   "cell_type": "code",
   "execution_count": 11,
   "metadata": {},
   "outputs": [
    {
     "name": "stdout",
     "output_type": "stream",
     "text": [
      "  x    y    z    out\n",
      "False False False True\n",
      "False False True False\n",
      "False True False False\n",
      "False True True False\n",
      "True False False True\n",
      "True False True True\n",
      "True True False False\n",
      "True True True True\n"
     ]
    }
   ],
   "source": [
    "print(\"  x    y    z    out\")\n",
    "for x in [False, True]:\n",
    "    for y in [False, True]:\n",
    "        for z in [False, True]:\n",
    "            out = (x or not z) and (not y or z)\n",
    "            print(x, y, z, out)"
   ]
  },
  {
   "cell_type": "markdown",
   "metadata": {},
   "source": [
    "We can clean up the output a bit using Python's formatted output feature. C programmers may recognize it as looking a bit like the syntax for the `printf`."
   ]
  },
  {
   "cell_type": "code",
   "execution_count": 12,
   "metadata": {},
   "outputs": [
    {
     "name": "stdout",
     "output_type": "stream",
     "text": [
      "   x    y    z     out\n",
      "False False False  True\n",
      "False False  True False\n",
      "False  True False False\n",
      "False  True  True False\n",
      " True False False  True\n",
      " True False  True  True\n",
      " True  True False False\n",
      " True  True  True  True\n"
     ]
    }
   ],
   "source": [
    "print(\"   x    y    z     out\")\n",
    "for x in [False, True]:\n",
    "    for y in [False, True]:\n",
    "        for z in [False, True]:\n",
    "            out = (x or not z) and (not y or z)\n",
    "            print(\"%5s %5s %5s %5s\" % (x, y, z, out))"
   ]
  },
  {
   "cell_type": "markdown",
   "metadata": {},
   "source": [
    "## Problem 2\n",
    "Generate the truth table for this four-variable expression.\n",
    "\n",
    "$$ (a \\lor \\neg b \\lor d) \\land (\\neg b \\lor \\neg d) \\land (\\neg a \\lor b \\lor c \\lor \\neg d) $$"
   ]
  },
  {
   "cell_type": "code",
   "execution_count": 15,
   "metadata": {},
   "outputs": [
    {
     "name": "stdout",
     "output_type": "stream",
     "text": [
      "   a    b    c    d     out\n",
      "False False False False  True\n",
      "False False False  True  True\n",
      "False False  True False  True\n",
      "False False  True  True  True\n",
      "False  True False False False\n",
      "False  True False  True False\n",
      "False  True  True False False\n",
      "False  True  True  True False\n",
      " True False False False  True\n",
      " True False False  True False\n",
      " True False  True False  True\n",
      " True False  True  True  True\n",
      " True  True False False  True\n",
      " True  True False  True False\n",
      " True  True  True False  True\n",
      " True  True  True  True False\n"
     ]
    }
   ],
   "source": [
    "print(\"   a    b    c    d     out\")\n",
    "for a in [False, True]:\n",
    "    for b in [False, True]:\n",
    "        for c in [False, True]:\n",
    "            for d in [False, True]:\n",
    "                out = (a or not b or d) and (not b or not d) and (not a or b or c or not d)\n",
    "                print(\"%5s %5s %5s %5s %5s\" % (a, b, c, d, out))\n"
   ]
  },
  {
   "cell_type": "markdown",
   "metadata": {},
   "source": [
    "## Problem 3\n",
    "Generate the truth table for this five-variable expression.\n",
    "\n",
    "$$ (p \\lor \\neg q) \\land (m \\lor \\neg n \\lor q \\lor r) \\land (\\neg m \\lor \\neg n \\lor p \\lor r) \\land (\\neg n \\lor \\neg q \\lor \\neg r) $$"
   ]
  },
  {
   "cell_type": "code",
   "execution_count": 21,
   "metadata": {},
   "outputs": [
    {
     "name": "stdout",
     "output_type": "stream",
     "text": [
      "   p    q    m    n    r    out\n",
      "False False False False False  True\n",
      "False False False False  True  True\n",
      "False False False  True False False\n",
      "False False False  True  True  True\n",
      "False False  True False False  True\n",
      "False False  True False  True  True\n",
      "False False  True  True False False\n",
      "False False  True  True  True  True\n",
      "False  True False False False False\n",
      "False  True False False  True False\n",
      "False  True False  True False False\n",
      "False  True False  True  True False\n",
      "False  True  True False False False\n",
      "False  True  True False  True False\n",
      "False  True  True  True False False\n",
      "False  True  True  True  True False\n",
      " True False False False False  True\n",
      " True False False False  True  True\n",
      " True False False  True False False\n",
      " True False False  True  True  True\n",
      " True False  True False False  True\n",
      " True False  True False  True  True\n",
      " True False  True  True False  True\n",
      " True False  True  True  True  True\n",
      " True  True False False False  True\n",
      " True  True False False  True  True\n",
      " True  True False  True False  True\n",
      " True  True False  True  True False\n",
      " True  True  True False False  True\n",
      " True  True  True False  True  True\n",
      " True  True  True  True False  True\n",
      " True  True  True  True  True False\n"
     ]
    }
   ],
   "source": [
    "print(\"   p    q    m    n    r    out\")\n",
    "for p in [False, True]:\n",
    "    for q in [False, True]:\n",
    "        for m in [False, True]:\n",
    "            for n in [False, True]:\n",
    "                for r in [False, True]:\n",
    "                    out = (p or not q) and (m or not n or q or r) and (not n or not q or not r) and (not m or not n or p or r)\n",
    "                    print(\"%5s %5s %5s %5s %5s %5s\" % (p, q, m, n, r, out))\n"
   ]
  }
 ],
 "metadata": {
  "kernelspec": {
   "display_name": "Python 3 (ipykernel)",
   "language": "python",
   "name": "python3"
  },
  "language_info": {
   "codemirror_mode": {
    "name": "ipython",
    "version": 3
   },
   "file_extension": ".py",
   "mimetype": "text/x-python",
   "name": "python",
   "nbconvert_exporter": "python",
   "pygments_lexer": "ipython3",
   "version": "3.9.7"
  }
 },
 "nbformat": 4,
 "nbformat_minor": 4
}
