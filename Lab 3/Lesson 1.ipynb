{
 "cells": [
  {
   "cell_type": "markdown",
   "metadata": {},
   "source": [
    "# Review\n",
    "It's been a couple of weeks since we used Python, so let's review a bit.\n",
    "\n",
    "First, here are the basic Python arithmetic operators.\n",
    "\n",
    "| Operator | Meaning |\n",
    "|---|---|\n",
    "| \\*, +, -, / | Multiply, add, subtract, divide |\n",
    "| // | Integer division |\n",
    "| % | Modulo (remainder) |\n",
    "| \\*\\* | Exponent |\n",
    "\n",
    "You are using a Python Notebook where you can type in and execute Python expressions and statements. Execute the arithmetic expressions below by pressing Shift-Enter (or Shift-Return, or the arrow next to the cell)."
   ]
  },
  {
   "cell_type": "code",
   "execution_count": null,
   "metadata": {},
   "outputs": [],
   "source": [
    "45 * 12 + 19"
   ]
  },
  {
   "cell_type": "code",
   "execution_count": null,
   "metadata": {},
   "outputs": [],
   "source": [
    "79 ** 50"
   ]
  },
  {
   "cell_type": "markdown",
   "metadata": {},
   "source": [
    "## Strings\n",
    "Python strings are enclosed in single quotes `''` or double quotes `\"\"`. Use whichever is more convenient.\n",
    "\n",
    "When you execute the cells below, notice that Python will sometimes change the delimiter, depending on what characters are in the string.\n",
    "\n",
    "Concatenate strings using the `+` operator, similar to the way Java does it."
   ]
  },
  {
   "cell_type": "code",
   "execution_count": null,
   "metadata": {},
   "outputs": [],
   "source": [
    "\"I <3 Python\""
   ]
  },
  {
   "cell_type": "code",
   "execution_count": null,
   "metadata": {},
   "outputs": [],
   "source": [
    "'Four score and seven years ago'"
   ]
  },
  {
   "cell_type": "code",
   "execution_count": null,
   "metadata": {},
   "outputs": [],
   "source": [
    "'SquarePants' + ', ' + 'SpongeBob'"
   ]
  },
  {
   "cell_type": "markdown",
   "metadata": {},
   "source": [
    "# Variables\n",
    "\n",
    "Variables do not need to be declared before they are used. Variables have a name and a value but do not have a static (unchanging) type. Rather, they are dynamically typed. That is, the type of a variable is determined while the program is running. You don't have to declare the type of a variable; just assign it and Python will accept it."
   ]
  },
  {
   "cell_type": "markdown",
   "metadata": {},
   "source": [
    "## Problem 1\n",
    "Assign the string `Sierra College` to the variable `school`. Execute the cell below by clicking in it, then pressing Shift-Enter."
   ]
  },
  {
   "cell_type": "code",
   "execution_count": null,
   "metadata": {},
   "outputs": [],
   "source": [
    "school = \"Sierra College\""
   ]
  },
  {
   "cell_type": "markdown",
   "metadata": {},
   "source": [
    "Check that the value of school is Sierra College. Execute the cell below to see its value."
   ]
  },
  {
   "cell_type": "code",
   "execution_count": null,
   "metadata": {},
   "outputs": [],
   "source": [
    "school"
   ]
  },
  {
   "cell_type": "markdown",
   "metadata": {},
   "source": [
    "You can also assign a variable and display its value in a single cell. Just write two lines like the next example. Run the cell to see the value of the course variable."
   ]
  },
  {
   "cell_type": "code",
   "execution_count": null,
   "metadata": {},
   "outputs": [],
   "source": [
    "course = 'Discrete Structures'\n",
    "\n",
    "course"
   ]
  },
  {
   "cell_type": "markdown",
   "metadata": {},
   "source": [
    "## Problem 2\n",
    "Assign the string `Quoth the raven, \"Nevermore!\"` to the variable `raven`.\n",
    "\n",
    "To check the value, add a new cell below the next one and enter the variable name, similar to how you checked the **school** problem. Make sure the string has the quotations marks around the word *Nevermore*. Remember: strings can be delimited by either single quotes `'` or double quotes `\"`, whichever is more convenient."
   ]
  },
  {
   "cell_type": "code",
   "execution_count": null,
   "metadata": {},
   "outputs": [],
   "source": [
    "raven = None"
   ]
  },
  {
   "cell_type": "markdown",
   "metadata": {},
   "source": [
    "## Problem 3\n",
    "A certain website requires passwords to be eight characters long and composed of letters (both lowercase and uppercase) and digits. How many possible passwords are there? You can calculate this number directly in the notebook. (This problem has been done for you.)\n",
    "\n",
    "Check the value by creating a new cell and evalutating the value of the **passwords** variable."
   ]
  },
  {
   "cell_type": "code",
   "execution_count": null,
   "metadata": {},
   "outputs": [],
   "source": [
    "passwords = (26 + 26 + 10) ** 8"
   ]
  },
  {
   "cell_type": "markdown",
   "metadata": {},
   "source": [
    "## Problem 4\n",
    "YouTube uses an ID like **GM0K_trBhQA** to identify each video. The ID is composed of 11 characters. Each character is a letter (uppercase or lowercase), digit, a dash, or an underscore. How many YouTube IDs are possible?"
   ]
  },
  {
   "cell_type": "code",
   "execution_count": null,
   "metadata": {},
   "outputs": [],
   "source": [
    "youtube = None"
   ]
  },
  {
   "cell_type": "code",
   "execution_count": null,
   "metadata": {},
   "outputs": [],
   "source": [
    "# This cell checks your solution to Problem 4.\n",
    "# Obviously the actual solution shouldn't be shown here, so this\n",
    "# check will only make sure your answer is in the right ballpark.\n",
    "# No news is good news: no output means the test passed!\n",
    "\n",
    "assert youtube > 73786976294820000000 and youtube < 73786976294850000000"
   ]
  },
  {
   "cell_type": "markdown",
   "metadata": {},
   "source": [
    "## Problem 5\n",
    "An egg crate holds three dozen (36) eggs. A farmer's flock of chickens laid 739 eggs yesterday. How many full crates will the farmer be able to ship? Have Python compute the answer and assign it to the **crates** variable.\n",
    "\n",
    "How many eggs are left over? Assign the answer to the **eggs** variable."
   ]
  },
  {
   "cell_type": "code",
   "execution_count": null,
   "metadata": {},
   "outputs": [],
   "source": [
    "crates = None\n",
    "eggs = None"
   ]
  },
  {
   "cell_type": "code",
   "execution_count": null,
   "metadata": {},
   "outputs": [],
   "source": [
    "# This cell checks your solution to Problem 5.\n",
    "# The solution here is calculated in an obscure way so that you can't see the answer\n",
    "# directly. :)\n",
    "\n",
    "assert crates == (1 << 5) - 3 ** 2 + -(8 - 5)\n",
    "assert eggs == 0x320 % 43 - 0b111"
   ]
  }
 ],
 "metadata": {
  "kernelspec": {
   "display_name": "Python 3",
   "language": "python",
   "name": "python3"
  },
  "language_info": {
   "codemirror_mode": {
    "name": "ipython",
    "version": 3
   },
   "file_extension": ".py",
   "mimetype": "text/x-python",
   "name": "python",
   "nbconvert_exporter": "python",
   "pygments_lexer": "ipython3",
   "version": "3.8.5"
  }
 },
 "nbformat": 4,
 "nbformat_minor": 4
}
