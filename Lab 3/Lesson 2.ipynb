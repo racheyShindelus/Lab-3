{
 "cells": [
  {
   "cell_type": "markdown",
   "metadata": {},
   "source": [
    "# Functions\n",
    "By this point in your college education you are familiar with the word *function.* But you have heard it used in two contexts: your mathematics courses and your computer science courses. Both disciplines use the word to mean similar concepts, but each has its own slightly different definition of what is function is. Let's look at both and see if we can unify them.\n",
    "\n",
    "## Mathematics\n",
    "A technical definition of a function is: a relation from a set of inputs to a set of possible outputs where each input is related to exactly one output.\n",
    "\n",
    "This means that if the object *x* is in the set of inputs (called the domain) then a function *f* will map the object *x* to exactly one object *f*(*x*) in the set of possible outputs (called the codomain).\n",
    "\n",
    "The notion of a function is easily understood using the metaphor of a function machine that takes in an object for its input and, based on that input, spits out another object as its output.\n",
    "\n",
    "![Function Machine](https://s3.amazonaws.com/illustrativemathematics/images/000/000/782/medium/Task_1_8c7a6a9a2e1421586c40f125bd783de3.jpg?1335065782)\n",
    "\n",
    "Functions in mathematics are often written in a terse, compact form such as:\n",
    "\n",
    "$$ f(x) = x^3 + 5 $$\n",
    "\n",
    "In this form, the function has three parts:\n",
    "\n",
    "* The function has a name: *f*\n",
    "* It has an input: *x*\n",
    "* The function operates on the input *x* by cubing it and adding 5\n",
    "\n",
    "The name of the function is typically a single letter, such as *f*, although there is no reason other than brevity that it couldn't be something longer such as *determinant* or *marmelade.* The names of the input variables are also usually a single letter but, again, we could use something more descriptive.\n",
    "\n",
    "Functions can take in multiple inputs. For example, the function *area* computes the area of a triangle from its width and height:\n",
    "\n",
    "$$ area(width, height) = \\frac{width \\cdot height}{2} $$\n",
    "\n",
    "Functions are sometimes called *maps* which take in a set of inputs, operate on them, and produce a set of outputs.\n",
    "\n",
    "## Computer Science\n",
    "Programming has somewhat generalized the pure concept of a mathematical function by allowing it to perform not just one operation but an almost limitless amount of computations, including *side effects* that may affect things outside the function itself. But as this course in discrete structures has a mathematical foundation, let us take a perspective that allows us to keep the concepts simple.\n",
    "\n",
    "For our purposes, a program *function* is a named body of computer instructions that operate on its inputs and produces an output. This definition is not dissimilar to the mathematical one above. That is by design: the conceptual model of the function machine above is exactly what we are defining here. We want to study and design functions that *map sets of inputs onto a set of outputs.*\n",
    "\n",
    "## Examples\n",
    "Although we have been using Python for only a couple of weeks, we have already seen many examples of its built-in functions. Let's review and learn about some of them.\n",
    "\n",
    "### ord(c)\n",
    "This function takes in a single character and produces its numeric Unicode value."
   ]
  },
  {
   "cell_type": "code",
   "execution_count": null,
   "metadata": {},
   "outputs": [],
   "source": [
    "ord('A')"
   ]
  },
  {
   "cell_type": "code",
   "execution_count": null,
   "metadata": {},
   "outputs": [],
   "source": [
    "ord('€')"
   ]
  },
  {
   "cell_type": "markdown",
   "metadata": {},
   "source": [
    "### chr(n)\n",
    "The complement to `ord`, this function produces the character from its corresponding Unicode value."
   ]
  },
  {
   "cell_type": "code",
   "execution_count": null,
   "metadata": {},
   "outputs": [],
   "source": [
    "chr(8748)"
   ]
  },
  {
   "cell_type": "code",
   "execution_count": null,
   "metadata": {},
   "outputs": [],
   "source": [
    "chr(90)"
   ]
  },
  {
   "cell_type": "markdown",
   "metadata": {},
   "source": [
    "### b64encode(s)\n",
    "From a byte string, produces the equivalent base 64 encoding."
   ]
  },
  {
   "cell_type": "code",
   "execution_count": null,
   "metadata": {},
   "outputs": [],
   "source": [
    "from base64 import b64encode\n",
    "b64encode(b\"It's a trap!\")"
   ]
  },
  {
   "cell_type": "markdown",
   "metadata": {},
   "source": [
    "### len(x)\n",
    "Given an object *x*, return its length or size. For example, the *len* function will return the number of characters in a string. It will also return the number of elements in an array."
   ]
  },
  {
   "cell_type": "code",
   "execution_count": null,
   "metadata": {},
   "outputs": [],
   "source": [
    "len(\"Sierra College\")"
   ]
  },
  {
   "cell_type": "markdown",
   "metadata": {},
   "source": [
    "## Defining functions\n",
    "The keyword `def` is used to define a function. Here are the definitions of the functions `f` and `triArea` shown above. **Press Shift-Enter (or Shift-Return) to execute the defintions and load them into memory.**"
   ]
  },
  {
   "cell_type": "code",
   "execution_count": null,
   "metadata": {},
   "outputs": [],
   "source": [
    "def f(x):\n",
    "    return x**3 + 5\n",
    "\n",
    "def triArea(base, height):\n",
    "    return base * height / 2"
   ]
  },
  {
   "cell_type": "markdown",
   "metadata": {},
   "source": [
    "Invoke these functions by executing the cells below:"
   ]
  },
  {
   "cell_type": "code",
   "execution_count": null,
   "metadata": {},
   "outputs": [],
   "source": [
    "f(3)"
   ]
  },
  {
   "cell_type": "code",
   "execution_count": null,
   "metadata": {},
   "outputs": [],
   "source": [
    "f(-5.7)"
   ]
  },
  {
   "cell_type": "code",
   "execution_count": null,
   "metadata": {},
   "outputs": [],
   "source": [
    "# Compute the area of a triangle with base=3 and height=7.1\n",
    "triArea(3, 7.1)"
   ]
  },
  {
   "cell_type": "markdown",
   "metadata": {},
   "source": [
    "### Important: Python formatting\n",
    "In Python, indentation is critical. The body of the function **must be indented.** That is how Python knows where the body begins and ends. The bodies of the functions we'll be writing will typically be short: only a couple of lines of code. Regardless, each line must be indented.\n",
    "\n",
    "Please note also that the first line of the function ends with a colon `:`. Essentially, the colon and indentation take the place of the braces `{` and `}` used in Java or C.\n",
    "\n",
    "The indentation rules apply to other Python constructs, such as conditionals (`if`) and loops (`for` and `while`). We'll learn more about them later."
   ]
  },
  {
   "cell_type": "markdown",
   "metadata": {},
   "source": [
    "## Problem 1\n",
    "Define the function shown here.\n",
    "\n",
    "$$ g(x) = (14x + 5) \\bmod 23 $$\n",
    "\n",
    "In Python, use the `%` operator to perform the modulo (remainder) operation."
   ]
  },
  {
   "cell_type": "code",
   "execution_count": null,
   "metadata": {},
   "outputs": [],
   "source": [
    "# Write your function definition here. Remember to execute it to load it into memory.\n",
    "def g(x):\n",
    "    return (14*x +5) % 23"
   ]
  },
  {
   "cell_type": "code",
   "execution_count": null,
   "metadata": {},
   "outputs": [],
   "source": [
    "# Execute this cell to check your answer. If you get no errors, you did great!\n",
    "assert g(1) == 19\n",
    "assert g(0) == 5\n",
    "assert g(2) == 10\n",
    "assert g(10) == 7"
   ]
  },
  {
   "cell_type": "markdown",
   "metadata": {},
   "source": [
    "## Function composition\n",
    "Functions can invoke (or call) other functions. In mathematical terms, this is called *function composition*. Let's use the `f` function from above to compute\n",
    "\n",
    "$$ h(n) = 2 \\cdot f(n) $$"
   ]
  },
  {
   "cell_type": "code",
   "execution_count": null,
   "metadata": {},
   "outputs": [],
   "source": [
    "def h(n):\n",
    "    return 2 * f(n)"
   ]
  },
  {
   "cell_type": "code",
   "execution_count": null,
   "metadata": {},
   "outputs": [],
   "source": [
    "# Execute this cell to check the function definition.\n",
    "assert h(0) == 10\n",
    "assert h(1) == 12\n",
    "assert h(2) == 26\n",
    "assert h(-1) == 8"
   ]
  },
  {
   "cell_type": "markdown",
   "metadata": {},
   "source": [
    "## Problem 2\n",
    "Write a function called `prism` that computes the volume of a triangular prism from its `base`, `height`, and `length`. Compose this out of the `triArea` function. That is, use `triArea` to make this calculation simpler.\n",
    "\n",
    "![Triangular prism with base, height, and length](https://media.geeksforgeeks.org/wp-content/uploads/Triangula-prism.png)"
   ]
  },
  {
   "cell_type": "code",
   "execution_count": null,
   "metadata": {},
   "outputs": [],
   "source": [
    "# Write your function definition here\n"
   ]
  },
  {
   "cell_type": "code",
   "execution_count": null,
   "metadata": {},
   "outputs": [],
   "source": [
    "# Execute this cell to check your answer. If you get no errors, it worked!\n",
    "assert prism(1, 1, 1) == 0.5\n",
    "assert prism(2, 4, 10) == 40\n",
    "assert prism(10, 5, 5) == 125"
   ]
  }
 ],
 "metadata": {
  "kernelspec": {
   "display_name": "Python 3",
   "language": "python",
   "name": "python3"
  },
  "language_info": {
   "codemirror_mode": {
    "name": "ipython",
    "version": 3
   },
   "file_extension": ".py",
   "mimetype": "text/x-python",
   "name": "python",
   "nbconvert_exporter": "python",
   "pygments_lexer": "ipython3",
   "version": "3.7.7"
  }
 },
 "nbformat": 4,
 "nbformat_minor": 4
}
